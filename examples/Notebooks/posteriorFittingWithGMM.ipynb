{
 "cells": [
  {
   "cell_type": "markdown",
   "metadata": {},
   "source": [
    "### Fitting a GMM to approximate posterior distributions.\n",
    "\n",
    "---\n",
    "\n",
    "In approxposterior, we fit build a GMM model to approximate the joint posterior distribution inferred by emcee.  We use sklearn's GMM implementation (https://scikit-learn.org/stable/modules/generated/sklearn.mixture.GaussianMixture.html#sklearn.mixture.GaussianMixture) and select the optimal number of components using the BIC. This notebook demonstrates this procedure."
   ]
  },
  {
   "cell_type": "code",
   "execution_count": null,
   "metadata": {},
   "outputs": [],
   "source": [
    "%matplotlib inline\n",
    "\n",
    "from approxposterior import gmmUtils\n",
    "import numpy as np\n",
    "from scipy import linalg\n",
    "\n",
    "import matplotlib as mpl\n",
    "import matplotlib.pyplot as plt\n",
    "mpl.rcParams.update({'font.size': 18})"
   ]
  },
  {
   "cell_type": "markdown",
   "metadata": {},
   "source": [
    "First, let's generate a disjoint bimodal Gaussian distribution (2 components)."
   ]
  },
  {
   "cell_type": "code",
   "execution_count": null,
   "metadata": {},
   "outputs": [],
   "source": [
    "np.random.seed(42)\n",
    "\n",
    "# Spherical gaussian centered on (5, 10)\n",
    "shiftG = np.random.randn(500, 2) + np.array([5, 10])\n",
    "\n",
    "# Save mean\n",
    "muShiftG = np.mean(shiftG, axis=0)\n",
    "\n",
    "# Zero centered Gaussian data\n",
    "c = np.array([[0., -0.7], [3.5, .7]])\n",
    "stretchG = np.dot(np.random.randn(300, 2), c)\n",
    "\n",
    "# Save mean\n",
    "muStetchG = np.mean(stretchG, axis=0)\n",
    "\n",
    "# Combine dataset, randomize points\n",
    "data = np.vstack([shiftG, stretchG])\n",
    "np.random.shuffle(data)"
   ]
  },
  {
   "cell_type": "markdown",
   "metadata": {},
   "source": [
    "What does it look like?"
   ]
  },
  {
   "cell_type": "code",
   "execution_count": null,
   "metadata": {},
   "outputs": [],
   "source": [
    "fig, ax = plt.subplots(figsize=(9,8))\n",
    "\n",
    "ax.scatter(data[:,0], data[:,1], s=20)"
   ]
  },
  {
   "cell_type": "markdown",
   "metadata": {},
   "source": [
    "Let's fit a GMM model to approximate the true density.  Clearly, there are two Gaussian components, but here we'll explore GMMs with up to 10 components to demonstrate how we can use the BIC (https://en.wikipedia.org/wiki/Bayesian_information_criterion) within fitGMM to select the optimal number of components, given the data."
   ]
  },
  {
   "cell_type": "code",
   "execution_count": null,
   "metadata": {},
   "outputs": [],
   "source": [
    "# Fit!\n",
    "gmm = gmmUtils.fitGMM(data, maxComp=6, covType=\"full\", useBic=True)"
   ]
  },
  {
   "cell_type": "markdown",
   "metadata": {},
   "source": [
    "Let's plot the data and our fit to see how we did.\n",
    "\n",
    "Code based on https://scikit-learn.org/stable/auto_examples/mixture/plot_gmm_selection.html#sphx-glr-auto-examples-mixture-plot-gmm-selection-py example."
   ]
  },
  {
   "cell_type": "code",
   "execution_count": null,
   "metadata": {},
   "outputs": [],
   "source": [
    "fig, ax = plt.subplots(figsize=(9,8))\n",
    "\n",
    "# Plot data\n",
    "ax.scatter(data[:,0], data[:,1], s=20)\n",
    "\n",
    "# Now plot GMM components\n",
    "colors = [\"C%d\" % ii for ii in range(len(gmm.means_))]\n",
    "for i, (mean, cov, color) in enumerate(zip(gmm.means_, gmm.covariances_, colors)):\n",
    "    v, w = linalg.eigh(cov)\n",
    "    \n",
    "    # Plot an ellipse to show the Gaussian component\n",
    "    angle = np.arctan2(w[0][1], w[0][0])\n",
    "    angle = 180. * angle / np.pi  # convert to degrees\n",
    "    v = 2. * np.sqrt(2.) * np.sqrt(v)\n",
    "    ell = mpl.patches.Ellipse(mean, v[0], v[1], 180. + angle, color=color)\n",
    "    ell.set_clip_box(ax.bbox)\n",
    "    ell.set_alpha(.5)\n",
    "    ax.add_artist(ell)"
   ]
  },
  {
   "cell_type": "markdown",
   "metadata": {},
   "source": [
    "Looks good!\n",
    "\n",
    "Let's compare the true means with the inferred means."
   ]
  },
  {
   "cell_type": "code",
   "execution_count": null,
   "metadata": {},
   "outputs": [],
   "source": [
    "print(\"Component 0 true, inferred:\",muStetchG, gmm.means_[1])\n",
    "print(\"Component 1 true, inferred:\",muShiftG, gmm.means_[0])"
   ]
  },
  {
   "cell_type": "markdown",
   "metadata": {},
   "source": [
    "Perfect!"
   ]
  },
  {
   "cell_type": "code",
   "execution_count": null,
   "metadata": {},
   "outputs": [],
   "source": []
  }
 ],
 "metadata": {
  "kernelspec": {
   "display_name": "Python 3",
   "language": "python",
   "name": "python3"
  },
  "language_info": {
   "codemirror_mode": {
    "name": "ipython",
    "version": 3
   },
   "file_extension": ".py",
   "mimetype": "text/x-python",
   "name": "python",
   "nbconvert_exporter": "python",
   "pygments_lexer": "ipython3",
   "version": "3.7.6"
  }
 },
 "nbformat": 4,
 "nbformat_minor": 4
}
