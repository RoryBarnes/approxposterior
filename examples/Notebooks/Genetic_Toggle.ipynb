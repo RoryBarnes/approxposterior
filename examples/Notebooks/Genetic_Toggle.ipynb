{
 "cells": [
  {
   "cell_type": "code",
   "execution_count": 78,
   "metadata": {
    "collapsed": true
   },
   "outputs": [],
   "source": [
    "%matplotlib inline\n",
    "\n",
    "import numpy as np\n",
    "from scipy.integrate import odeint\n",
    "import emcee\n",
    "import corner\n",
    "\n",
    "import matplotlib as mpl\n",
    "import matplotlib.pyplot as plt\n",
    "mpl.rcParams.update({'font.size': 18})"
   ]
  },
  {
   "cell_type": "code",
   "execution_count": 88,
   "metadata": {
    "collapsed": true
   },
   "outputs": [],
   "source": [
    "def genetic_model(y, t, alpha1, alpha2, gamma, beta, eta, IPTG, K):\n",
    "    # u = y[0], v = y[1]\n",
    "    u, v = y\n",
    "    w = u/(1.0 + np.power(IPTG/K,eta))\n",
    "    \n",
    "    return [alpha1/(1.0 + np.power(v,beta)) - u, alpha2/(1.0 + np.power(w,gamma)) - v]"
   ]
  },
  {
   "cell_type": "code",
   "execution_count": 66,
   "metadata": {
    "collapsed": true
   },
   "outputs": [],
   "source": [
    "# Initial conditions\n",
    "t = np.linspace(0.0, 10.0, 100)\n",
    "\n",
    "alpha1 = 143.0\n",
    "alpha2 = 15.95\n",
    "gamma = 2.70\n",
    "beta = 0.96\n",
    "eta = 2.34\n",
    "K = 2.7e-5\n",
    "IPTG = 1.0e-6\n",
    "\n",
    "# Initial guess\n",
    "y0 = [1.0e-2, 1.0e-2]"
   ]
  },
  {
   "cell_type": "code",
   "execution_count": 89,
   "metadata": {},
   "outputs": [],
   "source": [
    "sol = odeint(genetic_model, y0, t, args=(alpha1, alpha2, gamma, beta, eta, IPTG, K))"
   ]
  },
  {
   "cell_type": "code",
   "execution_count": 68,
   "metadata": {},
   "outputs": [
    {
     "data": {
      "text/plain": [
       "<matplotlib.text.Text at 0x117d189e8>"
      ]
     },
     "execution_count": 68,
     "metadata": {},
     "output_type": "execute_result"
    },
    {
     "data": {
      "image/png": "[encoded data removed]",
      "text/plain": [
       "<matplotlib.figure.Figure at 0x117d04438>"
      ]
     },
     "metadata": {},
     "output_type": "display_data"
    }
   ],
   "source": [
    "fig, ax = plt.subplots(figsize=(9,8))\n",
    "\n",
    "ax.plot(t, sol[:,0], lw=2.5, label=\"u\")\n",
    "ax.plot(t, sol[:,1], lw=2.5, label=\"v\")\n",
    "\n",
    "# Format\n",
    "ax.legend()\n",
    "ax.set_yscale(\"log\")\n",
    "ax.set_ylabel(\"u, v Concentration [dimensionless]\")\n",
    "ax.set_xlabel(\"Time [s]\")"
   ]
  },
  {
   "cell_type": "code",
   "execution_count": 86,
   "metadata": {},
   "outputs": [
    {
     "name": "stdout",
     "output_type": "stream",
     "text": [
      "0.003937224264822326\n"
     ]
    }
   ],
   "source": [
    "obs = float(sol[-1,1] + np.sqrt(5.0e-4)*np.random.randn(1))\n",
    "print(obs)"
   ]
  },
  {
   "cell_type": "code",
   "execution_count": 83,
   "metadata": {},
   "outputs": [
    {
     "data": {
      "text/plain": [
       "3.1826343015096331e-05"
      ]
     },
     "execution_count": 83,
     "metadata": {},
     "output_type": "execute_result"
    }
   ],
   "source": [
    "sol[-1,1]"
   ]
  },
  {
   "cell_type": "code",
   "execution_count": 82,
   "metadata": {},
   "outputs": [
    {
     "data": {
      "text/plain": [
       "0.022360679774997897"
      ]
     },
     "execution_count": 82,
     "metadata": {},
     "output_type": "execute_result"
    }
   ],
   "source": [
    "np.sqrt(5.0e-4)"
   ]
  },
  {
   "cell_type": "code",
   "execution_count": 81,
   "metadata": {
    "collapsed": true
   },
   "outputs": [],
   "source": [
    "def genetic_lnprior(x):\n",
    "    \"\"\"\n",
    "    Uniform log prior for the genetic switch likelihood following Wang & Li (2017)\n",
    "    where the prior pi(x) is a uniform distribution for each parameter.\n",
    "\n",
    "    Parameters\n",
    "    ----------\n",
    "    x : array\n",
    "\n",
    "    Returns\n",
    "    -------\n",
    "    l : float\n",
    "        log prior\n",
    "    \"\"\"\n",
    "\n",
    "    x = np.array(x)\n",
    "    if x.ndim > 1:\n",
    "        alpha1 = x[:,0]\n",
    "        alpha2 = x[:,1]\n",
    "        gamma = x[:,2]\n",
    "        beta = x[:,3]\n",
    "        eta = x[:,4]\n",
    "        K = x[:,5]\n",
    "    else:\n",
    "        alpha1, alpha2, gamma, beta, eta, K = x\n",
    "    \n",
    "    # All flat priors from Wang & Li (2017)\n",
    "    if np.any(alpha1 < 120.0) or np.any(alpha1 > 200.0):\n",
    "        return -np.inf\n",
    "    elif np.any(alpha2 < 15.0) or np.any(alpha2 > 16.0):\n",
    "        return -np.inf\n",
    "    elif np.any(gamma < 2.1) or np.any(gamma > 2.9):\n",
    "        return -np.inf\n",
    "    elif np.any(beta < 0.85) or np.any(beta > 1.15):\n",
    "        return -np.inf\n",
    "    elif np.any(eta < 1.3) or np.any(eta > 2.7):\n",
    "        return -np.inf\n",
    "    elif np.any(K < 2.3e-5) or np.any(K > 3.7e-5):\n",
    "        return -np.inf\n",
    "    else:\n",
    "        return 0.0\n",
    "# end function"
   ]
  },
  {
   "cell_type": "code",
   "execution_count": 106,
   "metadata": {
    "collapsed": true
   },
   "outputs": [],
   "source": [
    "def genetic_sample(n):\n",
    "    \"\"\"\n",
    "    Sample N points from the prior pi(x) is a uniform distribution over\n",
    "    ranges given in Wang & Li (2017) for the genetic toggle example.\n",
    "\n",
    "    Parameters\n",
    "    ----------\n",
    "    n : int\n",
    "        Number of samples\n",
    "\n",
    "    Returns\n",
    "    -------\n",
    "    sample : floats\n",
    "        n x 6 array of floats samples from the prior\n",
    "    \"\"\"\n",
    "    \n",
    "    alpha1 = np.random.uniform(low=120.0, high=200.0, size=(n,1))\n",
    "    alpha2 = np.random.uniform(low=15.0, high=16.0, size=(n,1))\n",
    "    gamma = np.random.uniform(low=2.1, high=2.9, size=(n,1))\n",
    "    beta = np.random.uniform(low=0.85, high=1.15, size=(n,1))\n",
    "    eta = np.random.uniform(low=1.3, high=2.7, size=(n,1))\n",
    "    K = np.random.uniform(low=2.3, high=3.7, size=(n,1))*1.0e-5\n",
    "\n",
    "    return np.hstack([alpha1, alpha2, gamma, beta, eta, K])\n",
    "# end function"
   ]
  },
  {
   "cell_type": "code",
   "execution_count": 129,
   "metadata": {},
   "outputs": [],
   "source": [
    "def genetic_lnlike(x):\n",
    "    \"\"\"\n",
    "    Log-likelihood for the genetic switch likelihood following Wang & Li (2017).\n",
    "    \n",
    "    Valid for the following \"true\" forward model parameters:\n",
    "    \n",
    "    alpha1 = 143.0\n",
    "    alpha2 = 15.95\n",
    "    gamma = 2.70\n",
    "    beta = 0.96\n",
    "    eta = 2.34\n",
    "    K = 2.7e-5\n",
    "    IPTG = 1.0e-6\n",
    "    \n",
    "    observable: 3.1826343015096331e-05 (v concentration at t=10)\n",
    "    noise level: 0.022360679774997897 (sqrt(5.0e-4))\n",
    "    \n",
    "    Parameters\n",
    "    ----------\n",
    "    x : array\n",
    "\n",
    "    Returns\n",
    "    -------\n",
    "    l : float\n",
    "        lnlike\n",
    "    \"\"\"\n",
    "    \n",
    "    # True value, error, true value + error (error sampled from N(0,err^2))\n",
    "    obs = 3.183e-05\n",
    "    err = 0.0224\n",
    "    erred_obs = 0.00394\n",
    "    IPTG = 1.0e-6\n",
    "    \n",
    "    # Unpack data\n",
    "    x = np.array(x)\n",
    "    if x.ndim > 1:\n",
    "        alpha1 = x[:,0]\n",
    "        alpha2 = x[:,1]\n",
    "        gamma = x[:,2]\n",
    "        beta = x[:,3]\n",
    "        eta = x[:,4]\n",
    "        K = x[:,5]\n",
    "    else:\n",
    "        alpha1, alpha2, gamma, beta, eta, K = x\n",
    "        \n",
    "    # Run forward model to get prediction (final value of v)\n",
    "    t = np.linspace(0.0, 10.0, 100)\n",
    "    y0 = [1.0e-2, 1.0e-2] # results not sensitive to initial conditions\n",
    "    sol = odeint(genetic_model, y0, t, args=(alpha1, alpha2, gamma, beta, eta, IPTG, K))\n",
    "\n",
    "    return -0.5*((erred_obs - sol[-1,1])**2 / err**2)\n",
    "# end function"
   ]
  },
  {
   "cell_type": "code",
   "execution_count": 134,
   "metadata": {
    "collapsed": true
   },
   "outputs": [],
   "source": [
    "def lnprob(x):\n",
    "    lp = print(genetic_lnprior(x))\n",
    "    \n",
    "    if not np.isfinite(lp):\n",
    "        return -np.inf\n",
    "    return lp + genetic_lnlike(x)"
   ]
  },
  {
   "cell_type": "code",
   "execution_count": 135,
   "metadata": {
    "collapsed": true
   },
   "outputs": [],
   "source": [
    "ndim = 6          # Number of dimensions\n",
    "nsteps = 1000     # Number of MCMC iterations\n",
    "verbose = False   # Don't output lots of stuff\n",
    "\n",
    "nwalk = 10 * ndim # Use 10 walkers per dimension\n",
    "\n",
    "# Initial guess for walkers (random over prior)\n",
    "p0 = [genetic_sample(1) for j in range(nwalk)]"
   ]
  },
  {
   "cell_type": "code",
   "execution_count": 136,
   "metadata": {
    "collapsed": true
   },
   "outputs": [],
   "source": [
    "sampler = emcee.EnsembleSampler(nwalk, ndim, lnprob)"
   ]
  },
  {
   "cell_type": "code",
   "execution_count": 137,
   "metadata": {},
   "outputs": [
    {
     "name": "stdout",
     "output_type": "stream",
     "text": [
      "0.0\n",
      "emcee: Exception while calling your likelihood function:\n",
      "  params: [[  1.62328428e+02   1.50652178e+01   2.55684726e+00   1.05910875e+00\n",
      "    1.30029374e+00   2.31265017e-05]]\n",
      "  args: []\n",
      "  kwargs: {}\n",
      "  exception:\n"
     ]
    },
    {
     "name": "stderr",
     "output_type": "stream",
     "text": [
      "Traceback (most recent call last):\n",
      "  File \"/Users/dflemin3/anaconda3/lib/python3.6/site-packages/emcee/ensemble.py\", line 519, in __call__\n",
      "    return self.f(x, *self.args, **self.kwargs)\n",
      "  File \"<ipython-input-134-9372d8561f61>\", line 4, in lnprob\n",
      "    print(lp,genetic_lnlike(x))\n",
      "NameError: name 'lp' is not defined\n"
     ]
    },
    {
     "ename": "NameError",
     "evalue": "name 'lp' is not defined",
     "output_type": "error",
     "traceback": [
      "\u001b[0;31m---------------------------------------------------------------------------\u001b[0m",
      "\u001b[0;31mNameError\u001b[0m                                 Traceback (most recent call last)",
      "\u001b[0;32m<ipython-input-137-972b8db53f30>\u001b[0m in \u001b[0;36m<module>\u001b[0;34m()\u001b[0m\n\u001b[0;32m----> 1\u001b[0;31m \u001b[0;32mfor\u001b[0m \u001b[0mi\u001b[0m\u001b[0;34m,\u001b[0m \u001b[0mresult\u001b[0m \u001b[0;32min\u001b[0m \u001b[0menumerate\u001b[0m\u001b[0;34m(\u001b[0m\u001b[0msampler\u001b[0m\u001b[0;34m.\u001b[0m\u001b[0msample\u001b[0m\u001b[0;34m(\u001b[0m\u001b[0mp0\u001b[0m\u001b[0;34m,\u001b[0m \u001b[0miterations\u001b[0m\u001b[0;34m=\u001b[0m\u001b[0mnsteps\u001b[0m\u001b[0;34m)\u001b[0m\u001b[0;34m)\u001b[0m\u001b[0;34m:\u001b[0m\u001b[0;34m\u001b[0m\u001b[0m\n\u001b[0m\u001b[1;32m      2\u001b[0m     \u001b[0;32mif\u001b[0m \u001b[0mverbose\u001b[0m\u001b[0;34m:\u001b[0m\u001b[0;34m\u001b[0m\u001b[0m\n\u001b[1;32m      3\u001b[0m         \u001b[0mprint\u001b[0m\u001b[0;34m(\u001b[0m\u001b[0;34m\"%d/%d\"\u001b[0m \u001b[0;34m%\u001b[0m \u001b[0;34m(\u001b[0m\u001b[0mi\u001b[0m\u001b[0;34m+\u001b[0m\u001b[0;36m1\u001b[0m\u001b[0;34m,\u001b[0m \u001b[0mnsteps\u001b[0m\u001b[0;34m)\u001b[0m\u001b[0;34m)\u001b[0m\u001b[0;34m\u001b[0m\u001b[0m\n\u001b[1;32m      4\u001b[0m \u001b[0;34m\u001b[0m\u001b[0m\n\u001b[1;32m      5\u001b[0m \u001b[0mprint\u001b[0m\u001b[0;34m(\u001b[0m\u001b[0;34m\"emcee finished!\"\u001b[0m\u001b[0;34m)\u001b[0m\u001b[0;34m\u001b[0m\u001b[0m\n",
      "\u001b[0;32m/Users/dflemin3/anaconda3/lib/python3.6/site-packages/emcee/ensemble.py\u001b[0m in \u001b[0;36msample\u001b[0;34m(self, p0, lnprob0, rstate0, blobs0, iterations, thin, storechain, mh_proposal)\u001b[0m\n\u001b[1;32m    196\u001b[0m         \u001b[0mblobs\u001b[0m \u001b[0;34m=\u001b[0m \u001b[0mblobs0\u001b[0m\u001b[0;34m\u001b[0m\u001b[0m\n\u001b[1;32m    197\u001b[0m         \u001b[0;32mif\u001b[0m \u001b[0mlnprob\u001b[0m \u001b[0;32mis\u001b[0m \u001b[0;32mNone\u001b[0m\u001b[0;34m:\u001b[0m\u001b[0;34m\u001b[0m\u001b[0m\n\u001b[0;32m--> 198\u001b[0;31m             \u001b[0mlnprob\u001b[0m\u001b[0;34m,\u001b[0m \u001b[0mblobs\u001b[0m \u001b[0;34m=\u001b[0m \u001b[0mself\u001b[0m\u001b[0;34m.\u001b[0m\u001b[0m_get_lnprob\u001b[0m\u001b[0;34m(\u001b[0m\u001b[0mp\u001b[0m\u001b[0;34m)\u001b[0m\u001b[0;34m\u001b[0m\u001b[0m\n\u001b[0m\u001b[1;32m    199\u001b[0m \u001b[0;34m\u001b[0m\u001b[0m\n\u001b[1;32m    200\u001b[0m         \u001b[0;31m# Check to make sure that the probability function didn't return\u001b[0m\u001b[0;34m\u001b[0m\u001b[0;34m\u001b[0m\u001b[0m\n",
      "\u001b[0;32m/Users/dflemin3/anaconda3/lib/python3.6/site-packages/emcee/ensemble.py\u001b[0m in \u001b[0;36m_get_lnprob\u001b[0;34m(self, pos)\u001b[0m\n\u001b[1;32m    380\u001b[0m \u001b[0;34m\u001b[0m\u001b[0m\n\u001b[1;32m    381\u001b[0m         \u001b[0;31m# Run the log-probability calculations (optionally in parallel).\u001b[0m\u001b[0;34m\u001b[0m\u001b[0;34m\u001b[0m\u001b[0m\n\u001b[0;32m--> 382\u001b[0;31m         \u001b[0mresults\u001b[0m \u001b[0;34m=\u001b[0m \u001b[0mlist\u001b[0m\u001b[0;34m(\u001b[0m\u001b[0mM\u001b[0m\u001b[0;34m(\u001b[0m\u001b[0mself\u001b[0m\u001b[0;34m.\u001b[0m\u001b[0mlnprobfn\u001b[0m\u001b[0;34m,\u001b[0m \u001b[0;34m[\u001b[0m\u001b[0mp\u001b[0m\u001b[0;34m[\u001b[0m\u001b[0mi\u001b[0m\u001b[0;34m]\u001b[0m \u001b[0;32mfor\u001b[0m \u001b[0mi\u001b[0m \u001b[0;32min\u001b[0m \u001b[0mrange\u001b[0m\u001b[0;34m(\u001b[0m\u001b[0mlen\u001b[0m\u001b[0;34m(\u001b[0m\u001b[0mp\u001b[0m\u001b[0;34m)\u001b[0m\u001b[0;34m)\u001b[0m\u001b[0;34m]\u001b[0m\u001b[0;34m)\u001b[0m\u001b[0;34m)\u001b[0m\u001b[0;34m\u001b[0m\u001b[0m\n\u001b[0m\u001b[1;32m    383\u001b[0m \u001b[0;34m\u001b[0m\u001b[0m\n\u001b[1;32m    384\u001b[0m         \u001b[0;32mtry\u001b[0m\u001b[0;34m:\u001b[0m\u001b[0;34m\u001b[0m\u001b[0m\n",
      "\u001b[0;32m/Users/dflemin3/anaconda3/lib/python3.6/site-packages/emcee/ensemble.py\u001b[0m in \u001b[0;36m__call__\u001b[0;34m(self, x)\u001b[0m\n\u001b[1;32m    517\u001b[0m     \u001b[0;32mdef\u001b[0m \u001b[0m__call__\u001b[0m\u001b[0;34m(\u001b[0m\u001b[0mself\u001b[0m\u001b[0;34m,\u001b[0m \u001b[0mx\u001b[0m\u001b[0;34m)\u001b[0m\u001b[0;34m:\u001b[0m\u001b[0;34m\u001b[0m\u001b[0m\n\u001b[1;32m    518\u001b[0m         \u001b[0;32mtry\u001b[0m\u001b[0;34m:\u001b[0m\u001b[0;34m\u001b[0m\u001b[0m\n\u001b[0;32m--> 519\u001b[0;31m             \u001b[0;32mreturn\u001b[0m \u001b[0mself\u001b[0m\u001b[0;34m.\u001b[0m\u001b[0mf\u001b[0m\u001b[0;34m(\u001b[0m\u001b[0mx\u001b[0m\u001b[0;34m,\u001b[0m \u001b[0;34m*\u001b[0m\u001b[0mself\u001b[0m\u001b[0;34m.\u001b[0m\u001b[0margs\u001b[0m\u001b[0;34m,\u001b[0m \u001b[0;34m**\u001b[0m\u001b[0mself\u001b[0m\u001b[0;34m.\u001b[0m\u001b[0mkwargs\u001b[0m\u001b[0;34m)\u001b[0m\u001b[0;34m\u001b[0m\u001b[0m\n\u001b[0m\u001b[1;32m    520\u001b[0m         \u001b[0;32mexcept\u001b[0m\u001b[0;34m:\u001b[0m\u001b[0;34m\u001b[0m\u001b[0m\n\u001b[1;32m    521\u001b[0m             \u001b[0;32mimport\u001b[0m \u001b[0mtraceback\u001b[0m\u001b[0;34m\u001b[0m\u001b[0m\n",
      "\u001b[0;32m<ipython-input-134-9372d8561f61>\u001b[0m in \u001b[0;36mlnprob\u001b[0;34m(x)\u001b[0m\n\u001b[1;32m      2\u001b[0m     \u001b[0mprint\u001b[0m\u001b[0;34m(\u001b[0m\u001b[0mgenetic_lnprior\u001b[0m\u001b[0;34m(\u001b[0m\u001b[0mx\u001b[0m\u001b[0;34m)\u001b[0m\u001b[0;34m)\u001b[0m\u001b[0;34m\u001b[0m\u001b[0m\n\u001b[1;32m      3\u001b[0m \u001b[0;34m\u001b[0m\u001b[0m\n\u001b[0;32m----> 4\u001b[0;31m     \u001b[0mprint\u001b[0m\u001b[0;34m(\u001b[0m\u001b[0mlp\u001b[0m\u001b[0;34m,\u001b[0m\u001b[0mgenetic_lnlike\u001b[0m\u001b[0;34m(\u001b[0m\u001b[0mx\u001b[0m\u001b[0;34m)\u001b[0m\u001b[0;34m)\u001b[0m\u001b[0;34m\u001b[0m\u001b[0m\n\u001b[0m\u001b[1;32m      5\u001b[0m     \u001b[0;32mif\u001b[0m \u001b[0;32mnot\u001b[0m \u001b[0mnp\u001b[0m\u001b[0;34m.\u001b[0m\u001b[0misfinite\u001b[0m\u001b[0;34m(\u001b[0m\u001b[0mlp\u001b[0m\u001b[0;34m)\u001b[0m\u001b[0;34m:\u001b[0m\u001b[0;34m\u001b[0m\u001b[0m\n\u001b[1;32m      6\u001b[0m         \u001b[0;32mreturn\u001b[0m \u001b[0;34m-\u001b[0m\u001b[0mnp\u001b[0m\u001b[0;34m.\u001b[0m\u001b[0minf\u001b[0m\u001b[0;34m\u001b[0m\u001b[0m\n",
      "\u001b[0;31mNameError\u001b[0m: name 'lp' is not defined"
     ]
    }
   ],
   "source": [
    "for i, result in enumerate(sampler.sample(p0, iterations=nsteps)):\n",
    "    if verbose:\n",
    "        print(\"%d/%d\" % (i+1, nsteps))\n",
    "                \n",
    "print(\"emcee finished!\")"
   ]
  },
  {
   "cell_type": "code",
   "execution_count": null,
   "metadata": {
    "collapsed": true
   },
   "outputs": [],
   "source": []
  }
 ],
 "metadata": {
  "kernelspec": {
   "display_name": "Python 3",
   "language": "python",
   "name": "python3"
  },
  "language_info": {
   "codemirror_mode": {
    "name": "ipython",
    "version": 3
   },
   "file_extension": ".py",
   "mimetype": "text/x-python",
   "name": "python",
   "nbconvert_exporter": "python",
   "pygments_lexer": "ipython3",
   "version": "3.6.1"
  }
 },
 "nbformat": 4,
 "nbformat_minor": 2
}
